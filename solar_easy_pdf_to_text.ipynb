{
  "cells": [
    {
      "cell_type": "markdown",
      "metadata": {
        "id": "view-in-github",
        "colab_type": "text"
      },
      "source": [
        "<a href=\"https://colab.research.google.com/github/aftera1l/SolarLLMZeroToAll/blob/main/solar_easy_pdf_to_text.ipynb\" target=\"_parent\"><img src=\"https://colab.research.google.com/assets/colab-badge.svg\" alt=\"Open In Colab\"/></a>"
      ]
    },
    {
      "cell_type": "markdown",
      "source": [
        "! pip3 install -qU langchain-upstage pypdf"
      ],
      "metadata": {
        "id": "wQyk-VWmXSr1"
      }
    },
    {
      "cell_type": "code",
      "source": [
        "from IPython.display import display, HTML\n",
        "pip install rank_bm25\n",
        "pip install tavily-python\n",
        "from langchain_upstage import UpstageLayoutAnalysisLoader\n",
        "import os\n",
        "from openai import OpenAI\n",
        "from pprint import pprint\n",
        "pip install langchain-community\n",
        "import warnings\n",
        "from langchain_community.document_loaders import PyPDFLoader\n",
        "from langchain_core.prompts import PromptTemplate\n",
        "from langchain_core.output_parsers import StrOutputParser\n",
        "from langchain_upstage import ChatUpstage\n",
        "from langchain_community.retrievers import BM25Retriever\n",
        "from langchain_text_splitters import (\n",
        "    Language,\n",
        "    RecursiveCharacterTextSplitter,\n",
        ")\n",
        "from langchain_chroma import Chroma\n",
        "from langchain_upstage import UpstageEmbeddings\n",
        "from langchain.docstore.document import Document\n",
        "from langchain_core.prompts import PromptTemplate\n",
        "from tavily import TavilyClient\n",
        "\n",
        "warnings.filterwarnings(\"ignore\")\n",
        "\n",
        "os.environ[\"UPSTAGE_API_KEY\"] = 'up_5kT8zTY70eUzQoz5GCQBzBWXxuQsJ'\n",
        "os.environ[\"TAVILY_API_KEY\"] = \"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\"\n",
        "os.environ['NEWS_API_KEY'] = \"17944328643d4922b6bc5ade37224e86\""
      ],
      "metadata": {
        "colab": {
          "base_uri": "https://localhost:8080/",
          "height": 34
        },
        "id": "bt1Id6j5bZZK",
        "outputId": "d2189b6a-9f7f-4d8e-d881-6ffaaaba46e4"
      },
      "execution_count": 14,
      "outputs": [
        {
          "output_type": "display_data",
          "data": {
            "text/plain": [
              "<IPython.core.display.HTML object>"
            ],
            "text/html": [
              " \n",
              " \n",
              " \n",
              " \n",
              " \n",
              " \n",
              " \n",
              " \n",
              " \n",
              " \n",
              " \n",
              " \n",
              " \n",
              " \n",
              " \n",
              "신한 해외여행 보험  \n",
              "2024년 4월부터  적용  \n",
              " \n",
              " \n",
              " \n",
              " \n",
              " \n",
              " \n",
              " \n",
              " \n",
              " \n",
              " \n",
              " \n",
              " \n",
              " \n",
              " \n",
              " \n",
              " \n",
              "이 보험약관은  금융소비자보호법  및 소비자보호  내부통제기준에  따른 절차를  거쳐 제공됩니다 . \n"
            ]
          },
          "metadata": {}
        }
      ]
    },
    {
      "cell_type": "markdown",
      "metadata": {
        "id": "Q1Tfpf1BXSr8"
      },
      "source": [
        "![SolarSample](https://github.com/aftera1l/SolarLLMZeroToAll/blob/main/figures/solar_sample.png?raw=1)"
      ]
    },
    {
      "cell_type": "code",
      "execution_count": 11,
      "metadata": {
        "id": "-mwL0LYkXSr-",
        "outputId": "17340c35-cc62-4644-b062-216a1179ed9f",
        "colab": {
          "base_uri": "https://localhost:8080/"
        }
      },
      "outputs": [
        {
          "output_type": "stream",
          "name": "stdout",
          "text": [
            " \n",
            " \n",
            " \n",
            " \n",
            " \n",
            " \n",
            " \n",
            " \n",
            " \n",
            " \n",
            " \n",
            " \n",
            " \n",
            " \n",
            " \n",
            "신한 해외여행 보험  \n",
            "2024년 4월부터  적용  \n",
            " \n",
            " \n",
            " \n",
            " \n",
            " \n",
            " \n",
            " \n",
            " \n",
            " \n",
            " \n",
            " \n",
            " \n",
            " \n",
            " \n",
            " \n",
            " \n",
            "이 보험약관은  금융소비자보호법  및 소비자보호  내부통제기준에  따른 절차를  거쳐 제공됩니다 . \n",
            "\n"
          ]
        }
      ],
      "source": [
        "loader = PyPDFLoader(\"target_long.pdf\")\n",
        "docs = loader.load()  #보험 약관 페이지가 매우 기므로, 나중에 이 데이터를 split해서 retriever에 넣을 것이다."
      ]
    },
    {
      "cell_type": "code",
      "execution_count": 12,
      "metadata": {
        "id": "9oZ2ec2jXSsA"
      },
      "outputs": [],
      "source": [
        "\n",
        "llm = ChatUpstage()\n",
        "\n",
        "prompt_template = PromptTemplate.from_template(\n",
        "    \"\"\"\n",
        "    Please provide most correct answer from the following context.\n",
        "    If the answer is not present in the context, please write \"The information is not present in the context.\"\n",
        "    ---\n",
        "    Question: {question}\n",
        "    ---\n",
        "    Context: {Context}\n",
        "    \"\"\"\n",
        ")\n",
        "chain = prompt_template | llm | StrOutputParser() #Chain은 prompy template의 요구를 따라, Upstage의 llm 모델을 이용하여, StrOutputParser로 답변의 문장구조를 사람답게 가공한다."
      ]
    },
    {
      "cell_type": "code",
      "source": [
        "text_splitter = RecursiveCharacterTextSplitter.from_language(\n",
        "    chunk_size=1000, chunk_overlap=100, language=Language.HTML\n",
        ")\n",
        "splits = text_splitter.split_documents(docs)\n",
        "\n",
        "retriever = BM25Retriever.from_documents(splits)"
      ],
      "metadata": {
        "id": "cuAKjDOmb-Qg"
      },
      "execution_count": 20,
      "outputs": []
    },
    {
      "cell_type": "code",
      "source": [
        "pip install langchain-chroma"
      ],
      "metadata": {
        "colab": {
          "base_uri": "https://localhost:8080/"
        },
        "id": "C_rMjrq9elKt",
        "outputId": "0d1c1199-b85f-4033-f486-e574ea212ec5"
      },
      "execution_count": 23,
      "outputs": [
        {
          "output_type": "stream",
          "name": "stdout",
          "text": [
            "Collecting langchain-chroma\n",
            "  Downloading langchain_chroma-0.1.1-py3-none-any.whl (8.5 kB)\n",
            "Collecting chromadb<0.6.0,>=0.4.0 (from langchain-chroma)\n",
            "  Downloading chromadb-0.5.0-py3-none-any.whl (526 kB)\n",
            "\u001b[2K     \u001b[90m━━━━━━━━━━━━━━━━━━━━━━━━━━━━━━━━━━━━━━━━\u001b[0m \u001b[32m526.8/526.8 kB\u001b[0m \u001b[31m6.9 MB/s\u001b[0m eta \u001b[36m0:00:00\u001b[0m\n",
            "\u001b[?25hCollecting fastapi<1,>=0.95.2 (from langchain-chroma)\n",
            "  Downloading fastapi-0.111.0-py3-none-any.whl (91 kB)\n",
            "\u001b[2K     \u001b[90m━━━━━━━━━━━━━━━━━━━━━━━━━━━━━━━━━━━━━━━━\u001b[0m \u001b[32m92.0/92.0 kB\u001b[0m \u001b[31m11.7 MB/s\u001b[0m eta \u001b[36m0:00:00\u001b[0m\n",
            "\u001b[?25hRequirement already satisfied: langchain-core<0.3,>=0.1.40 in /usr/local/lib/python3.10/dist-packages (from langchain-chroma) (0.2.0)\n",
            "Requirement already satisfied: numpy<2,>=1 in /usr/local/lib/python3.10/dist-packages (from langchain-chroma) (1.25.2)\n",
            "Requirement already satisfied: build>=1.0.3 in /usr/local/lib/python3.10/dist-packages (from chromadb<0.6.0,>=0.4.0->langchain-chroma) (1.2.1)\n",
            "Requirement already satisfied: requests>=2.28 in /usr/local/lib/python3.10/dist-packages (from chromadb<0.6.0,>=0.4.0->langchain-chroma) (2.31.0)\n",
            "Requirement already satisfied: pydantic>=1.9 in /usr/local/lib/python3.10/dist-packages (from chromadb<0.6.0,>=0.4.0->langchain-chroma) (2.7.1)\n",
            "Collecting chroma-hnswlib==0.7.3 (from chromadb<0.6.0,>=0.4.0->langchain-chroma)\n",
            "  Downloading chroma_hnswlib-0.7.3-cp310-cp310-manylinux_2_17_x86_64.manylinux2014_x86_64.whl (2.4 MB)\n",
            "\u001b[2K     \u001b[90m━━━━━━━━━━━━━━━━━━━━━━━━━━━━━━━━━━━━━━━━\u001b[0m \u001b[32m2.4/2.4 MB\u001b[0m \u001b[31m37.5 MB/s\u001b[0m eta \u001b[36m0:00:00\u001b[0m\n",
            "\u001b[?25hCollecting uvicorn[standard]>=0.18.3 (from chromadb<0.6.0,>=0.4.0->langchain-chroma)\n",
            "  Downloading uvicorn-0.29.0-py3-none-any.whl (60 kB)\n",
            "\u001b[2K     \u001b[90m━━━━━━━━━━━━━━━━━━━━━━━━━━━━━━━━━━━━━━━━\u001b[0m \u001b[32m60.8/60.8 kB\u001b[0m \u001b[31m8.4 MB/s\u001b[0m eta \u001b[36m0:00:00\u001b[0m\n",
            "\u001b[?25hCollecting posthog>=2.4.0 (from chromadb<0.6.0,>=0.4.0->langchain-chroma)\n",
            "  Downloading posthog-3.5.0-py2.py3-none-any.whl (41 kB)\n",
            "\u001b[2K     \u001b[90m━━━━━━━━━━━━━━━━━━━━━━━━━━━━━━━━━━━━━━━━\u001b[0m \u001b[32m41.3/41.3 kB\u001b[0m \u001b[31m4.7 MB/s\u001b[0m eta \u001b[36m0:00:00\u001b[0m\n",
            "\u001b[?25hRequirement already satisfied: typing-extensions>=4.5.0 in /usr/local/lib/python3.10/dist-packages (from chromadb<0.6.0,>=0.4.0->langchain-chroma) (4.11.0)\n",
            "Collecting onnxruntime>=1.14.1 (from chromadb<0.6.0,>=0.4.0->langchain-chroma)\n",
            "  Downloading onnxruntime-1.18.0-cp310-cp310-manylinux_2_27_x86_64.manylinux_2_28_x86_64.whl (6.8 MB)\n",
            "\u001b[2K     \u001b[90m━━━━━━━━━━━━━━━━━━━━━━━━━━━━━━━━━━━━━━━━\u001b[0m \u001b[32m6.8/6.8 MB\u001b[0m \u001b[31m62.7 MB/s\u001b[0m eta \u001b[36m0:00:00\u001b[0m\n",
            "\u001b[?25hCollecting opentelemetry-api>=1.2.0 (from chromadb<0.6.0,>=0.4.0->langchain-chroma)\n",
            "  Downloading opentelemetry_api-1.24.0-py3-none-any.whl (60 kB)\n",
            "\u001b[2K     \u001b[90m━━━━━━━━━━━━━━━━━━━━━━━━━━━━━━━━━━━━━━━━\u001b[0m \u001b[32m60.1/60.1 kB\u001b[0m \u001b[31m10.2 MB/s\u001b[0m eta \u001b[36m0:00:00\u001b[0m\n",
            "\u001b[?25hCollecting opentelemetry-exporter-otlp-proto-grpc>=1.2.0 (from chromadb<0.6.0,>=0.4.0->langchain-chroma)\n",
            "  Downloading opentelemetry_exporter_otlp_proto_grpc-1.24.0-py3-none-any.whl (18 kB)\n",
            "Collecting opentelemetry-instrumentation-fastapi>=0.41b0 (from chromadb<0.6.0,>=0.4.0->langchain-chroma)\n",
            "  Downloading opentelemetry_instrumentation_fastapi-0.45b0-py3-none-any.whl (11 kB)\n",
            "Collecting opentelemetry-sdk>=1.2.0 (from chromadb<0.6.0,>=0.4.0->langchain-chroma)\n",
            "  Downloading opentelemetry_sdk-1.24.0-py3-none-any.whl (106 kB)\n",
            "\u001b[2K     \u001b[90m━━━━━━━━━━━━━━━━━━━━━━━━━━━━━━━━━━━━━━━━\u001b[0m \u001b[32m106.1/106.1 kB\u001b[0m \u001b[31m14.2 MB/s\u001b[0m eta \u001b[36m0:00:00\u001b[0m\n",
            "\u001b[?25hRequirement already satisfied: tokenizers>=0.13.2 in /usr/local/lib/python3.10/dist-packages (from chromadb<0.6.0,>=0.4.0->langchain-chroma) (0.19.1)\n",
            "Collecting pypika>=0.48.9 (from chromadb<0.6.0,>=0.4.0->langchain-chroma)\n",
            "  Downloading PyPika-0.48.9.tar.gz (67 kB)\n",
            "\u001b[2K     \u001b[90m━━━━━━━━━━━━━━━━━━━━━━━━━━━━━━━━━━━━━━━━\u001b[0m \u001b[32m67.3/67.3 kB\u001b[0m \u001b[31m9.8 MB/s\u001b[0m eta \u001b[36m0:00:00\u001b[0m\n",
            "\u001b[?25h  Installing build dependencies ... \u001b[?25l\u001b[?25hdone\n",
            "  Getting requirements to build wheel ... \u001b[?25l\u001b[?25hdone\n",
            "  Preparing metadata (pyproject.toml) ... \u001b[?25l\u001b[?25hdone\n",
            "Requirement already satisfied: tqdm>=4.65.0 in /usr/local/lib/python3.10/dist-packages (from chromadb<0.6.0,>=0.4.0->langchain-chroma) (4.66.4)\n",
            "Collecting overrides>=7.3.1 (from chromadb<0.6.0,>=0.4.0->langchain-chroma)\n",
            "  Downloading overrides-7.7.0-py3-none-any.whl (17 kB)\n",
            "Requirement already satisfied: importlib-resources in /usr/local/lib/python3.10/dist-packages (from chromadb<0.6.0,>=0.4.0->langchain-chroma) (6.4.0)\n",
            "Requirement already satisfied: grpcio>=1.58.0 in /usr/local/lib/python3.10/dist-packages (from chromadb<0.6.0,>=0.4.0->langchain-chroma) (1.63.0)\n",
            "Collecting bcrypt>=4.0.1 (from chromadb<0.6.0,>=0.4.0->langchain-chroma)\n",
            "  Downloading bcrypt-4.1.3-cp39-abi3-manylinux_2_28_x86_64.whl (283 kB)\n",
            "\u001b[2K     \u001b[90m━━━━━━━━━━━━━━━━━━━━━━━━━━━━━━━━━━━━━━━━\u001b[0m \u001b[32m283.7/283.7 kB\u001b[0m \u001b[31m30.4 MB/s\u001b[0m eta \u001b[36m0:00:00\u001b[0m\n",
            "\u001b[?25hRequirement already satisfied: typer>=0.9.0 in /usr/local/lib/python3.10/dist-packages (from chromadb<0.6.0,>=0.4.0->langchain-chroma) (0.9.4)\n",
            "Collecting kubernetes>=28.1.0 (from chromadb<0.6.0,>=0.4.0->langchain-chroma)\n",
            "  Downloading kubernetes-29.0.0-py2.py3-none-any.whl (1.6 MB)\n",
            "\u001b[2K     \u001b[90m━━━━━━━━━━━━━━━━━━━━━━━━━━━━━━━━━━━━━━━━\u001b[0m \u001b[32m1.6/1.6 MB\u001b[0m \u001b[31m58.5 MB/s\u001b[0m eta \u001b[36m0:00:00\u001b[0m\n",
            "\u001b[?25hRequirement already satisfied: tenacity>=8.2.3 in /usr/local/lib/python3.10/dist-packages (from chromadb<0.6.0,>=0.4.0->langchain-chroma) (8.3.0)\n",
            "Requirement already satisfied: PyYAML>=6.0.0 in /usr/local/lib/python3.10/dist-packages (from chromadb<0.6.0,>=0.4.0->langchain-chroma) (6.0.1)\n",
            "Collecting mmh3>=4.0.1 (from chromadb<0.6.0,>=0.4.0->langchain-chroma)\n",
            "  Downloading mmh3-4.1.0-cp310-cp310-manylinux_2_5_x86_64.manylinux1_x86_64.manylinux_2_17_x86_64.manylinux2014_x86_64.whl (67 kB)\n",
            "\u001b[2K     \u001b[90m━━━━━━━━━━━━━━━━━━━━━━━━━━━━━━━━━━━━━━━━\u001b[0m \u001b[32m67.6/67.6 kB\u001b[0m \u001b[31m9.4 MB/s\u001b[0m eta \u001b[36m0:00:00\u001b[0m\n",
            "\u001b[?25hRequirement already satisfied: orjson>=3.9.12 in /usr/local/lib/python3.10/dist-packages (from chromadb<0.6.0,>=0.4.0->langchain-chroma) (3.10.3)\n",
            "Collecting starlette<0.38.0,>=0.37.2 (from fastapi<1,>=0.95.2->langchain-chroma)\n",
            "  Downloading starlette-0.37.2-py3-none-any.whl (71 kB)\n",
            "\u001b[2K     \u001b[90m━━━━━━━━━━━━━━━━━━━━━━━━━━━━━━━━━━━━━━━━\u001b[0m \u001b[32m71.9/71.9 kB\u001b[0m \u001b[31m9.3 MB/s\u001b[0m eta \u001b[36m0:00:00\u001b[0m\n",
            "\u001b[?25hCollecting fastapi-cli>=0.0.2 (from fastapi<1,>=0.95.2->langchain-chroma)\n",
            "  Downloading fastapi_cli-0.0.3-py3-none-any.whl (9.2 kB)\n",
            "Requirement already satisfied: httpx>=0.23.0 in /usr/local/lib/python3.10/dist-packages (from fastapi<1,>=0.95.2->langchain-chroma) (0.27.0)\n",
            "Requirement already satisfied: jinja2>=2.11.2 in /usr/local/lib/python3.10/dist-packages (from fastapi<1,>=0.95.2->langchain-chroma) (3.1.4)\n",
            "Collecting python-multipart>=0.0.7 (from fastapi<1,>=0.95.2->langchain-chroma)\n",
            "  Downloading python_multipart-0.0.9-py3-none-any.whl (22 kB)\n",
            "Collecting ujson!=4.0.2,!=4.1.0,!=4.2.0,!=4.3.0,!=5.0.0,!=5.1.0,>=4.0.1 (from fastapi<1,>=0.95.2->langchain-chroma)\n",
            "  Downloading ujson-5.10.0-cp310-cp310-manylinux_2_17_x86_64.manylinux2014_x86_64.whl (53 kB)\n",
            "\u001b[2K     \u001b[90m━━━━━━━━━━━━━━━━━━━━━━━━━━━━━━━━━━━━━━━━\u001b[0m \u001b[32m53.6/53.6 kB\u001b[0m \u001b[31m6.7 MB/s\u001b[0m eta \u001b[36m0:00:00\u001b[0m\n",
            "\u001b[?25hCollecting email_validator>=2.0.0 (from fastapi<1,>=0.95.2->langchain-chroma)\n",
            "  Downloading email_validator-2.1.1-py3-none-any.whl (30 kB)\n",
            "Requirement already satisfied: jsonpatch<2.0,>=1.33 in /usr/local/lib/python3.10/dist-packages (from langchain-core<0.3,>=0.1.40->langchain-chroma) (1.33)\n",
            "Requirement already satisfied: langsmith<0.2.0,>=0.1.0 in /usr/local/lib/python3.10/dist-packages (from langchain-core<0.3,>=0.1.40->langchain-chroma) (0.1.59)\n",
            "Requirement already satisfied: packaging<24.0,>=23.2 in /usr/local/lib/python3.10/dist-packages (from langchain-core<0.3,>=0.1.40->langchain-chroma) (23.2)\n",
            "Requirement already satisfied: pyproject_hooks in /usr/local/lib/python3.10/dist-packages (from build>=1.0.3->chromadb<0.6.0,>=0.4.0->langchain-chroma) (1.1.0)\n",
            "Requirement already satisfied: tomli>=1.1.0 in /usr/local/lib/python3.10/dist-packages (from build>=1.0.3->chromadb<0.6.0,>=0.4.0->langchain-chroma) (2.0.1)\n",
            "Collecting dnspython>=2.0.0 (from email_validator>=2.0.0->fastapi<1,>=0.95.2->langchain-chroma)\n",
            "  Downloading dnspython-2.6.1-py3-none-any.whl (307 kB)\n",
            "\u001b[2K     \u001b[90m━━━━━━━━━━━━━━━━━━━━━━━━━━━━━━━━━━━━━━━━\u001b[0m \u001b[32m307.7/307.7 kB\u001b[0m \u001b[31m38.8 MB/s\u001b[0m eta \u001b[36m0:00:00\u001b[0m\n",
            "\u001b[?25hRequirement already satisfied: idna>=2.0.0 in /usr/local/lib/python3.10/dist-packages (from email_validator>=2.0.0->fastapi<1,>=0.95.2->langchain-chroma) (3.7)\n",
            "Collecting typer>=0.9.0 (from chromadb<0.6.0,>=0.4.0->langchain-chroma)\n",
            "  Downloading typer-0.12.3-py3-none-any.whl (47 kB)\n",
            "\u001b[2K     \u001b[90m━━━━━━━━━━━━━━━━━━━━━━━━━━━━━━━━━━━━━━━━\u001b[0m \u001b[32m47.2/47.2 kB\u001b[0m \u001b[31m7.8 MB/s\u001b[0m eta \u001b[36m0:00:00\u001b[0m\n",
            "\u001b[?25hRequirement already satisfied: anyio in /usr/local/lib/python3.10/dist-packages (from httpx>=0.23.0->fastapi<1,>=0.95.2->langchain-chroma) (3.7.1)\n",
            "Requirement already satisfied: certifi in /usr/local/lib/python3.10/dist-packages (from httpx>=0.23.0->fastapi<1,>=0.95.2->langchain-chroma) (2024.2.2)\n",
            "Requirement already satisfied: httpcore==1.* in /usr/local/lib/python3.10/dist-packages (from httpx>=0.23.0->fastapi<1,>=0.95.2->langchain-chroma) (1.0.5)\n",
            "Requirement already satisfied: sniffio in /usr/local/lib/python3.10/dist-packages (from httpx>=0.23.0->fastapi<1,>=0.95.2->langchain-chroma) (1.3.1)\n",
            "Requirement already satisfied: h11<0.15,>=0.13 in /usr/local/lib/python3.10/dist-packages (from httpcore==1.*->httpx>=0.23.0->fastapi<1,>=0.95.2->langchain-chroma) (0.14.0)\n",
            "Requirement already satisfied: MarkupSafe>=2.0 in /usr/local/lib/python3.10/dist-packages (from jinja2>=2.11.2->fastapi<1,>=0.95.2->langchain-chroma) (2.1.5)\n",
            "Requirement already satisfied: jsonpointer>=1.9 in /usr/local/lib/python3.10/dist-packages (from jsonpatch<2.0,>=1.33->langchain-core<0.3,>=0.1.40->langchain-chroma) (2.4)\n",
            "Requirement already satisfied: six>=1.9.0 in /usr/local/lib/python3.10/dist-packages (from kubernetes>=28.1.0->chromadb<0.6.0,>=0.4.0->langchain-chroma) (1.16.0)\n",
            "Requirement already satisfied: python-dateutil>=2.5.3 in /usr/local/lib/python3.10/dist-packages (from kubernetes>=28.1.0->chromadb<0.6.0,>=0.4.0->langchain-chroma) (2.8.2)\n",
            "Requirement already satisfied: google-auth>=1.0.1 in /usr/local/lib/python3.10/dist-packages (from kubernetes>=28.1.0->chromadb<0.6.0,>=0.4.0->langchain-chroma) (2.27.0)\n",
            "Requirement already satisfied: websocket-client!=0.40.0,!=0.41.*,!=0.42.*,>=0.32.0 in /usr/local/lib/python3.10/dist-packages (from kubernetes>=28.1.0->chromadb<0.6.0,>=0.4.0->langchain-chroma) (1.8.0)\n",
            "Requirement already satisfied: requests-oauthlib in /usr/local/lib/python3.10/dist-packages (from kubernetes>=28.1.0->chromadb<0.6.0,>=0.4.0->langchain-chroma) (1.3.1)\n",
            "Requirement already satisfied: oauthlib>=3.2.2 in /usr/local/lib/python3.10/dist-packages (from kubernetes>=28.1.0->chromadb<0.6.0,>=0.4.0->langchain-chroma) (3.2.2)\n",
            "Requirement already satisfied: urllib3>=1.24.2 in /usr/local/lib/python3.10/dist-packages (from kubernetes>=28.1.0->chromadb<0.6.0,>=0.4.0->langchain-chroma) (2.0.7)\n",
            "Collecting coloredlogs (from onnxruntime>=1.14.1->chromadb<0.6.0,>=0.4.0->langchain-chroma)\n",
            "  Downloading coloredlogs-15.0.1-py2.py3-none-any.whl (46 kB)\n",
            "\u001b[2K     \u001b[90m━━━━━━━━━━━━━━━━━━━━━━━━━━━━━━━━━━━━━━━━\u001b[0m \u001b[32m46.0/46.0 kB\u001b[0m \u001b[31m7.0 MB/s\u001b[0m eta \u001b[36m0:00:00\u001b[0m\n",
            "\u001b[?25hRequirement already satisfied: flatbuffers in /usr/local/lib/python3.10/dist-packages (from onnxruntime>=1.14.1->chromadb<0.6.0,>=0.4.0->langchain-chroma) (24.3.25)\n",
            "Requirement already satisfied: protobuf in /usr/local/lib/python3.10/dist-packages (from onnxruntime>=1.14.1->chromadb<0.6.0,>=0.4.0->langchain-chroma) (3.20.3)\n",
            "Requirement already satisfied: sympy in /usr/local/lib/python3.10/dist-packages (from onnxruntime>=1.14.1->chromadb<0.6.0,>=0.4.0->langchain-chroma) (1.12)\n",
            "Collecting deprecated>=1.2.6 (from opentelemetry-api>=1.2.0->chromadb<0.6.0,>=0.4.0->langchain-chroma)\n",
            "  Downloading Deprecated-1.2.14-py2.py3-none-any.whl (9.6 kB)\n",
            "Collecting importlib-metadata<=7.0,>=6.0 (from opentelemetry-api>=1.2.0->chromadb<0.6.0,>=0.4.0->langchain-chroma)\n",
            "  Downloading importlib_metadata-7.0.0-py3-none-any.whl (23 kB)\n",
            "Requirement already satisfied: googleapis-common-protos~=1.52 in /usr/local/lib/python3.10/dist-packages (from opentelemetry-exporter-otlp-proto-grpc>=1.2.0->chromadb<0.6.0,>=0.4.0->langchain-chroma) (1.63.0)\n",
            "Collecting opentelemetry-exporter-otlp-proto-common==1.24.0 (from opentelemetry-exporter-otlp-proto-grpc>=1.2.0->chromadb<0.6.0,>=0.4.0->langchain-chroma)\n",
            "  Downloading opentelemetry_exporter_otlp_proto_common-1.24.0-py3-none-any.whl (17 kB)\n",
            "Collecting opentelemetry-proto==1.24.0 (from opentelemetry-exporter-otlp-proto-grpc>=1.2.0->chromadb<0.6.0,>=0.4.0->langchain-chroma)\n",
            "  Downloading opentelemetry_proto-1.24.0-py3-none-any.whl (50 kB)\n",
            "\u001b[2K     \u001b[90m━━━━━━━━━━━━━━━━━━━━━━━━━━━━━━━━━━━━━━━━\u001b[0m \u001b[32m50.8/50.8 kB\u001b[0m \u001b[31m8.0 MB/s\u001b[0m eta \u001b[36m0:00:00\u001b[0m\n",
            "\u001b[?25hCollecting opentelemetry-instrumentation-asgi==0.45b0 (from opentelemetry-instrumentation-fastapi>=0.41b0->chromadb<0.6.0,>=0.4.0->langchain-chroma)\n",
            "  Downloading opentelemetry_instrumentation_asgi-0.45b0-py3-none-any.whl (14 kB)\n",
            "Collecting opentelemetry-instrumentation==0.45b0 (from opentelemetry-instrumentation-fastapi>=0.41b0->chromadb<0.6.0,>=0.4.0->langchain-chroma)\n",
            "  Downloading opentelemetry_instrumentation-0.45b0-py3-none-any.whl (28 kB)\n",
            "Collecting opentelemetry-semantic-conventions==0.45b0 (from opentelemetry-instrumentation-fastapi>=0.41b0->chromadb<0.6.0,>=0.4.0->langchain-chroma)\n",
            "  Downloading opentelemetry_semantic_conventions-0.45b0-py3-none-any.whl (36 kB)\n",
            "Collecting opentelemetry-util-http==0.45b0 (from opentelemetry-instrumentation-fastapi>=0.41b0->chromadb<0.6.0,>=0.4.0->langchain-chroma)\n",
            "  Downloading opentelemetry_util_http-0.45b0-py3-none-any.whl (6.9 kB)\n",
            "Requirement already satisfied: setuptools>=16.0 in /usr/local/lib/python3.10/dist-packages (from opentelemetry-instrumentation==0.45b0->opentelemetry-instrumentation-fastapi>=0.41b0->chromadb<0.6.0,>=0.4.0->langchain-chroma) (67.7.2)\n",
            "Requirement already satisfied: wrapt<2.0.0,>=1.0.0 in /usr/local/lib/python3.10/dist-packages (from opentelemetry-instrumentation==0.45b0->opentelemetry-instrumentation-fastapi>=0.41b0->chromadb<0.6.0,>=0.4.0->langchain-chroma) (1.14.1)\n",
            "Collecting asgiref~=3.0 (from opentelemetry-instrumentation-asgi==0.45b0->opentelemetry-instrumentation-fastapi>=0.41b0->chromadb<0.6.0,>=0.4.0->langchain-chroma)\n",
            "  Downloading asgiref-3.8.1-py3-none-any.whl (23 kB)\n",
            "Collecting monotonic>=1.5 (from posthog>=2.4.0->chromadb<0.6.0,>=0.4.0->langchain-chroma)\n",
            "  Downloading monotonic-1.6-py2.py3-none-any.whl (8.2 kB)\n",
            "Collecting backoff>=1.10.0 (from posthog>=2.4.0->chromadb<0.6.0,>=0.4.0->langchain-chroma)\n",
            "  Downloading backoff-2.2.1-py3-none-any.whl (15 kB)\n",
            "Requirement already satisfied: annotated-types>=0.4.0 in /usr/local/lib/python3.10/dist-packages (from pydantic>=1.9->chromadb<0.6.0,>=0.4.0->langchain-chroma) (0.6.0)\n",
            "Requirement already satisfied: pydantic-core==2.18.2 in /usr/local/lib/python3.10/dist-packages (from pydantic>=1.9->chromadb<0.6.0,>=0.4.0->langchain-chroma) (2.18.2)\n",
            "Requirement already satisfied: charset-normalizer<4,>=2 in /usr/local/lib/python3.10/dist-packages (from requests>=2.28->chromadb<0.6.0,>=0.4.0->langchain-chroma) (3.3.2)\n",
            "Requirement already satisfied: huggingface-hub<1.0,>=0.16.4 in /usr/local/lib/python3.10/dist-packages (from tokenizers>=0.13.2->chromadb<0.6.0,>=0.4.0->langchain-chroma) (0.20.3)\n",
            "Requirement already satisfied: click>=8.0.0 in /usr/local/lib/python3.10/dist-packages (from typer>=0.9.0->chromadb<0.6.0,>=0.4.0->langchain-chroma) (8.1.7)\n",
            "Collecting shellingham>=1.3.0 (from typer>=0.9.0->chromadb<0.6.0,>=0.4.0->langchain-chroma)\n",
            "  Downloading shellingham-1.5.4-py2.py3-none-any.whl (9.8 kB)\n",
            "Requirement already satisfied: rich>=10.11.0 in /usr/local/lib/python3.10/dist-packages (from typer>=0.9.0->chromadb<0.6.0,>=0.4.0->langchain-chroma) (13.7.1)\n",
            "Collecting httptools>=0.5.0 (from uvicorn[standard]>=0.18.3->chromadb<0.6.0,>=0.4.0->langchain-chroma)\n",
            "  Downloading httptools-0.6.1-cp310-cp310-manylinux_2_5_x86_64.manylinux1_x86_64.manylinux_2_17_x86_64.manylinux2014_x86_64.whl (341 kB)\n",
            "\u001b[2K     \u001b[90m━━━━━━━━━━━━━━━━━━━━━━━━━━━━━━━━━━━━━━━━\u001b[0m \u001b[32m341.4/341.4 kB\u001b[0m \u001b[31m40.3 MB/s\u001b[0m eta \u001b[36m0:00:00\u001b[0m\n",
            "\u001b[?25hCollecting python-dotenv>=0.13 (from uvicorn[standard]>=0.18.3->chromadb<0.6.0,>=0.4.0->langchain-chroma)\n",
            "  Downloading python_dotenv-1.0.1-py3-none-any.whl (19 kB)\n",
            "Collecting uvloop!=0.15.0,!=0.15.1,>=0.14.0 (from uvicorn[standard]>=0.18.3->chromadb<0.6.0,>=0.4.0->langchain-chroma)\n",
            "  Downloading uvloop-0.19.0-cp310-cp310-manylinux_2_17_x86_64.manylinux2014_x86_64.whl (3.4 MB)\n",
            "\u001b[2K     \u001b[90m━━━━━━━━━━━━━━━━━━━━━━━━━━━━━━━━━━━━━━━━\u001b[0m \u001b[32m3.4/3.4 MB\u001b[0m \u001b[31m88.4 MB/s\u001b[0m eta \u001b[36m0:00:00\u001b[0m\n",
            "\u001b[?25hCollecting watchfiles>=0.13 (from uvicorn[standard]>=0.18.3->chromadb<0.6.0,>=0.4.0->langchain-chroma)\n",
            "  Downloading watchfiles-0.21.0-cp310-cp310-manylinux_2_17_x86_64.manylinux2014_x86_64.whl (1.3 MB)\n",
            "\u001b[2K     \u001b[90m━━━━━━━━━━━━━━━━━━━━━━━━━━━━━━━━━━━━━━━━\u001b[0m \u001b[32m1.3/1.3 MB\u001b[0m \u001b[31m83.5 MB/s\u001b[0m eta \u001b[36m0:00:00\u001b[0m\n",
            "\u001b[?25hCollecting websockets>=10.4 (from uvicorn[standard]>=0.18.3->chromadb<0.6.0,>=0.4.0->langchain-chroma)\n",
            "  Downloading websockets-12.0-cp310-cp310-manylinux_2_5_x86_64.manylinux1_x86_64.manylinux_2_17_x86_64.manylinux2014_x86_64.whl (130 kB)\n",
            "\u001b[2K     \u001b[90m━━━━━━━━━━━━━━━━━━━━━━━━━━━━━━━━━━━━━━━━\u001b[0m \u001b[32m130.2/130.2 kB\u001b[0m \u001b[31m12.8 MB/s\u001b[0m eta \u001b[36m0:00:00\u001b[0m\n",
            "\u001b[?25hRequirement already satisfied: exceptiongroup in /usr/local/lib/python3.10/dist-packages (from anyio->httpx>=0.23.0->fastapi<1,>=0.95.2->langchain-chroma) (1.2.1)\n",
            "Requirement already satisfied: cachetools<6.0,>=2.0.0 in /usr/local/lib/python3.10/dist-packages (from google-auth>=1.0.1->kubernetes>=28.1.0->chromadb<0.6.0,>=0.4.0->langchain-chroma) (5.3.3)\n",
            "Requirement already satisfied: pyasn1-modules>=0.2.1 in /usr/local/lib/python3.10/dist-packages (from google-auth>=1.0.1->kubernetes>=28.1.0->chromadb<0.6.0,>=0.4.0->langchain-chroma) (0.4.0)\n",
            "Requirement already satisfied: rsa<5,>=3.1.4 in /usr/local/lib/python3.10/dist-packages (from google-auth>=1.0.1->kubernetes>=28.1.0->chromadb<0.6.0,>=0.4.0->langchain-chroma) (4.9)\n",
            "Requirement already satisfied: filelock in /usr/local/lib/python3.10/dist-packages (from huggingface-hub<1.0,>=0.16.4->tokenizers>=0.13.2->chromadb<0.6.0,>=0.4.0->langchain-chroma) (3.14.0)\n",
            "Requirement already satisfied: fsspec>=2023.5.0 in /usr/local/lib/python3.10/dist-packages (from huggingface-hub<1.0,>=0.16.4->tokenizers>=0.13.2->chromadb<0.6.0,>=0.4.0->langchain-chroma) (2023.6.0)\n",
            "Requirement already satisfied: zipp>=0.5 in /usr/local/lib/python3.10/dist-packages (from importlib-metadata<=7.0,>=6.0->opentelemetry-api>=1.2.0->chromadb<0.6.0,>=0.4.0->langchain-chroma) (3.18.1)\n",
            "Requirement already satisfied: markdown-it-py>=2.2.0 in /usr/local/lib/python3.10/dist-packages (from rich>=10.11.0->typer>=0.9.0->chromadb<0.6.0,>=0.4.0->langchain-chroma) (3.0.0)\n",
            "Requirement already satisfied: pygments<3.0.0,>=2.13.0 in /usr/local/lib/python3.10/dist-packages (from rich>=10.11.0->typer>=0.9.0->chromadb<0.6.0,>=0.4.0->langchain-chroma) (2.16.1)\n",
            "Collecting humanfriendly>=9.1 (from coloredlogs->onnxruntime>=1.14.1->chromadb<0.6.0,>=0.4.0->langchain-chroma)\n",
            "  Downloading humanfriendly-10.0-py2.py3-none-any.whl (86 kB)\n",
            "\u001b[2K     \u001b[90m━━━━━━━━━━━━━━━━━━━━━━━━━━━━━━━━━━━━━━━━\u001b[0m \u001b[32m86.8/86.8 kB\u001b[0m \u001b[31m13.2 MB/s\u001b[0m eta \u001b[36m0:00:00\u001b[0m\n",
            "\u001b[?25hRequirement already satisfied: mpmath>=0.19 in /usr/local/lib/python3.10/dist-packages (from sympy->onnxruntime>=1.14.1->chromadb<0.6.0,>=0.4.0->langchain-chroma) (1.3.0)\n",
            "Requirement already satisfied: mdurl~=0.1 in /usr/local/lib/python3.10/dist-packages (from markdown-it-py>=2.2.0->rich>=10.11.0->typer>=0.9.0->chromadb<0.6.0,>=0.4.0->langchain-chroma) (0.1.2)\n",
            "Requirement already satisfied: pyasn1<0.7.0,>=0.4.6 in /usr/local/lib/python3.10/dist-packages (from pyasn1-modules>=0.2.1->google-auth>=1.0.1->kubernetes>=28.1.0->chromadb<0.6.0,>=0.4.0->langchain-chroma) (0.6.0)\n",
            "Building wheels for collected packages: pypika\n",
            "  Building wheel for pypika (pyproject.toml) ... \u001b[?25l\u001b[?25hdone\n",
            "  Created wheel for pypika: filename=PyPika-0.48.9-py2.py3-none-any.whl size=53724 sha256=fa28c3d49d855e4b26ee1e98bf7576113bbf2880c95808ca8579a09147112614\n",
            "  Stored in directory: /root/.cache/pip/wheels/e1/26/51/d0bffb3d2fd82256676d7ad3003faea3bd6dddc9577af665f4\n",
            "Successfully built pypika\n",
            "Installing collected packages: pypika, monotonic, mmh3, websockets, uvloop, uvicorn, ujson, shellingham, python-multipart, python-dotenv, overrides, opentelemetry-util-http, opentelemetry-semantic-conventions, opentelemetry-proto, importlib-metadata, humanfriendly, httptools, dnspython, deprecated, chroma-hnswlib, bcrypt, backoff, asgiref, watchfiles, starlette, posthog, opentelemetry-exporter-otlp-proto-common, opentelemetry-api, email_validator, coloredlogs, typer, opentelemetry-sdk, opentelemetry-instrumentation, onnxruntime, kubernetes, opentelemetry-instrumentation-asgi, opentelemetry-exporter-otlp-proto-grpc, opentelemetry-instrumentation-fastapi, fastapi-cli, fastapi, chromadb, langchain-chroma\n",
            "  Attempting uninstall: importlib-metadata\n",
            "    Found existing installation: importlib_metadata 7.1.0\n",
            "    Uninstalling importlib_metadata-7.1.0:\n",
            "      Successfully uninstalled importlib_metadata-7.1.0\n",
            "  Attempting uninstall: typer\n",
            "    Found existing installation: typer 0.9.4\n",
            "    Uninstalling typer-0.9.4:\n",
            "      Successfully uninstalled typer-0.9.4\n",
            "\u001b[31mERROR: pip's dependency resolver does not currently take into account all the packages that are installed. This behaviour is the source of the following dependency conflicts.\n",
            "spacy 3.7.4 requires typer<0.10.0,>=0.3.0, but you have typer 0.12.3 which is incompatible.\n",
            "weasel 0.3.4 requires typer<0.10.0,>=0.3.0, but you have typer 0.12.3 which is incompatible.\u001b[0m\u001b[31m\n",
            "\u001b[0mSuccessfully installed asgiref-3.8.1 backoff-2.2.1 bcrypt-4.1.3 chroma-hnswlib-0.7.3 chromadb-0.5.0 coloredlogs-15.0.1 deprecated-1.2.14 dnspython-2.6.1 email_validator-2.1.1 fastapi-0.111.0 fastapi-cli-0.0.3 httptools-0.6.1 humanfriendly-10.0 importlib-metadata-7.0.0 kubernetes-29.0.0 langchain-chroma-0.1.1 mmh3-4.1.0 monotonic-1.6 onnxruntime-1.18.0 opentelemetry-api-1.24.0 opentelemetry-exporter-otlp-proto-common-1.24.0 opentelemetry-exporter-otlp-proto-grpc-1.24.0 opentelemetry-instrumentation-0.45b0 opentelemetry-instrumentation-asgi-0.45b0 opentelemetry-instrumentation-fastapi-0.45b0 opentelemetry-proto-1.24.0 opentelemetry-sdk-1.24.0 opentelemetry-semantic-conventions-0.45b0 opentelemetry-util-http-0.45b0 overrides-7.7.0 posthog-3.5.0 pypika-0.48.9 python-dotenv-1.0.1 python-multipart-0.0.9 shellingham-1.5.4 starlette-0.37.2 typer-0.12.3 ujson-5.10.0 uvicorn-0.29.0 uvloop-0.19.0 watchfiles-0.21.0 websockets-12.0\n"
          ]
        }
      ]
    },
    {
      "cell_type": "code",
      "source": [
        "text_splitter = RecursiveCharacterTextSplitter.from_language(\n",
        "    chunk_size=1000, chunk_overlap=100, language=Language.HTML\n",
        ")\n",
        "splits = text_splitter.split_documents(docs)\n",
        "\n",
        "vectorstore = Chroma.from_documents(\n",
        "    documents=docs,\n",
        "    embedding=UpstageEmbeddings(model=\"solar-embedding-1-large\"),\n",
        ")\n",
        "\n",
        "retriever = vectorstore.as_retriever()"
      ],
      "metadata": {
        "id": "mEaByxj9eYy9"
      },
      "execution_count": 24,
      "outputs": []
    },
    {
      "cell_type": "code",
      "execution_count": 25,
      "metadata": {
        "id": "VapJA4cTXSsD",
        "outputId": "03c51a90-54f1-4696-db1e-eb0a46b36ea1",
        "colab": {
          "base_uri": "https://localhost:8080/"
        }
      },
      "outputs": [
        {
          "output_type": "execute_result",
          "data": {
            "text/plain": [
              "[Document(page_content='제5조(보험금을  지급하지  않는 사유) \\n① 회사는  다음 중 어느 한 가지로  보험금  지급사유가  발생한 때에는  보험금을  지급하지  않습니다 . \\n1. 피보험자가  고의로  자신을  해친 경우. 다만, 피보험자가  심신상실  등으로  자유로운  의사결정을  할 수 없는 상태에서  \\n자신을  해친 경우에는  보험금의  지급사유에서  정한 해당 보험금을  지급합니다 . \\n2. 보험수익자가  고의로  피보험자를  해친 경우. 다만, 그 보험수익자가  보험금의  일부 보험수익자인  경우에는  다른 보\\n험수익자에  대한 보험금은  지급합니다 . \\n3. 계약자가  고의로  피보험자를  해친 경우 \\n4. 피보험자의  임신, 출산(제왕절개를  포함합니다 ), 산후기 . 그러나 , 회사가  보장하는  보험금  지급사유와  보장개시일부\\n터 2년이 지난 후에 발생한  습관성  유산, 불임 및 인공수정  관련 합병증으로  인한 경우에는  보험금을  지급합니다  \\n<용어풀이 > \\n[습관성  유산, 불임 및 인공수정 ] \\n한국표준질병 ·사인분류상의  N96~N98 에 해당하는  질병을  말합니다 . \\n5. 전쟁, 외국의  무력행사 , 혁명, 내란, 사변, 폭동 \\n② 회사는  다른 약정이  없으면  피보험자가  직업, 직무 또는 동호회  활동목적으로  아래에  열거된  행위로  인하여  제3조(보험\\n금의 지급사유 )의 상해 관련 보험금  지급사유가  발생한  때에는  해당 보험금을  지급하지  않습니다 . \\n1. 전문등반 (전문적인  등산용구를  사용하여  암벽 또는 빙벽을  오르내리거나  특수한  기술, 경험, 사전훈련을  필요로  하\\n는 등반을  말합니다 ), 글라이더  조종, 스카이다이빙 , 스쿠버다이빙 , 행글라이딩 , 수상보트 , 패러글라이딩  \\n2. 모터보트 , 자동차  또는 오토바이에  의한 경기, 시범, 흥행(이를 위한 연습을  포함합니다 ) 또는 시운전 (다만, 공용도로\\n상에서  시운전을  하는 동안 보험금  지급사유가  발생한  경우에는  보장합니다 ) \\n3. 선박에  탑승하는  것을 직무로  하는 사람이  직무상  선박에  탑승하고  있는 동안 \\n \\n제6조(보험금  지급사유의  통지) \\n계약자  또는 피보험자나  보험수익자는  제3조(보험금의  지급사유 )에서 정한 보험금  지급사유가  생긴 것을 안 때에는  지체\\n없이 그 사실을  회사에  알려야  합니다 . \\n \\n제7조(보험금의  청구) \\n① 보험수익자  또는 계약자 는 다음의  서류를  제출하고  보험금을  청구하여야  합니다 . \\n1. 청구서 (회사양식 ) \\n2. 신분증 (주민등록증이나  운전면허증  등 사진이  붙은 정부기관  발행 신분증 , 본인이  아닌 경우에는  본인의  인감증명서  \\n또는 본인서명사실확인서  포함) \\n3. 사고증명서 (진료비계산서 , 사망진단서 , 장해진단서 , 입원치료확인서 , 의사처방전 (처방조제비 ), 손해배상  및 그 밖의 \\n비용을  지급하였음을  증명하는  서류 등) \\n4. 기타 보험수익자가  보험금의  수령에  필요하여  제출하는  서류 \\n② 제1항 제2호의 사고증명서는  의료법  제3조(의료기관 )에서 규정한  국내의  병원, 의원 또는 국외의  의료관련법에서  정한 \\n의료기관에서  발급한  것이어야  합니다 . ', metadata={'page': 13, 'source': 'target_long.pdf'}),\n",
              " Document(page_content=\"<용어해설 > \\n보험가입금액  한도 제한, 일부 보장 제외, 보험금  삭감, 보험료  할증 :  \\n회사의  인수기준에  따라 보장내용의  보험가입금액을  일정금액  이하로  낮추거나  일부 보장내용의  가입을  거절하거나  알\\n릴 의무와  관련하여  보험금을  삭감하거나  「보험료  및 해약환급금  산출방법서」  에 따라 보험료를  할증하는  것을 말합니\\n다.  \\n3. 이자율  관련 용어 \\n가. 연단위  복리: 회사가  지급할  금전에  이자를  줄 때 1년마다  마지막  날에 그 이자를  원금에  더한 금액을  다음 1년의 \\n원금으로  하는 이자 계산방법을  말합니다 . \\n나. 보험개발원이  공시하는  보험계약대출이율 : 보험개발원이  정기적으로  산출하여  공시하는  이율로써  회사가  보험금\\n의 지급 또는 보험료의  환급을  지연하는  경우 등에 적용합니다 . \\n<예시안내 > \\n[연단위  복리 계산법 ] \\n100원(원금) + 100원 × 10%(1 년차 이자) + [100 원 + 100 원 × 10%] × 10%(2 년차 이자) = 총 121원 \\n4. 기간과  날짜 관련 용어 \\n가. 보험기간 : 계약에  따라 보장을  받는 기간을  말합니다 . \\n나. 영업일 : 회사가  영업점에서  정상적으로  영업하는  날을 말하며 , 토요일 , ‘관공서의  공휴일에  관한 규정’에 따른 공휴\\n일과 근로자의  날을 제외합니다 . \\n \\n \\n제2관 보험금의  지급 \\n \\n제3조(보험금의  지급사유 ) \\n회사는  보험기간  중에 피보험자 가 보험증권에  기재된  해외여행을  목적으로  주거지를  출발하여  여행을  마치고  주거지에  도\\n착할 때까지의  여행 도중에  다음 중 어느 하나의  사유가  발생한  경우에는  보험수익자에게  약정한  보험금을  지급합니다 . \\n1. 보험기간  중에 상해의  직접결과로써  사망한  경우(질병으로  인한 사망은  제외합니다 ) : 사망보험금   \\n2. 보험기간  중 상해로  장해분류표 (【별표  1】 참조)에서 정한 각 장해지급률에  해당하는  장해상태가  되었을  때 : 후유장\\n해보험금  (장해분류표에서  정한 지급률을  보험가입금액에  곱하여  산출한  금액)  \\n \\n제4조(보험금  지급에  관한 세부규정 ) \\n① 제3조(보험금의  지급사유 ) 제1호 '사망'에는 보험기간에  다음 어느 하나의  사유가  발생한  경우를  포함합니다 .  \\n1. 실종선고를  받은 경우: 법원에서  인정한  실종기간이  끝나는  때에 사망한  것으로  봅니다 . \\n2. 관공서에서  수해, 화재나  그 밖의 재난을  조사하고  사망한  것으로  통보하는  경우: 가족관계등록부에  기재된  사망연\\n월일을  기준으로  합니다 . \\n[실종선고 ] 어떤 사람의  생사불명의  상태가  일정기간  이상 계속될  때 이해관계가  있는 사람의  청구에  의해 사망한   \\n                 것으로  간주하는  법원의  결정 \\n \", metadata={'page': 11, 'source': 'target_long.pdf'}),\n",
              " Document(page_content='통지하여야  합니다 . \\n③ 계약자는  회사가  정당한  사유 없이 제1항의 요구를  따르지  않는 경우 해당 계약을  해지할  수 있습니다 . \\n④ 제1항 및 제3항에 따라 계약이  해지된  경우 회사는  제32조(보험료의  환급) 제1항 제1호에 따른 보험료를  계약자에게  \\n지급합니다 . \\n⑤ 계약자는  제1항에 따른 제척기간에도  불구하고  민법 등 관계 법령에서  정하는  바에 따라 법률상의  권리를  행사할  수 있\\n습니다 . \\n \\n제30조(중대사유로  인한 해지) \\n① 회사는  아래와  같은 사실이  있을 경우에는  그 사실을  안 날부터  1개월 이내에  계약을  해지할  수 있습니다 . \\n1. 계약자 , 피보험자  또는 보험수익자가  보험금을  지급받을  목적으로  고의로  보험금  지급사유를  발생시킨  경우 \\n2. 계약자 , 피보험자  또는 보험수익자가  보험금  청구에  관한 서류에  고의로  사실과  다른 것을 기재하였거나  그 서류 또\\n는 증거를  위조 또는 변조한  경우. 다만, 이미 보험금  지급사유가  발생한  경우에는  보험금  지급에  영향을  미치지  않습\\n니다. \\n<용어풀이 > \\n[이미 발생한  보험금  지급사유에  대한 보험금  지급] \\n계약자 , 피보험자  또는 보험수익자가  보험금  청구에  관한 서류를  변조하여  보험금을  청구한  경우, 회사는  그 사실을  안 \\n날부터  1개월 이내에  계약을  해지할  수 있습니다 . 다만, 이 경우에도  회사는  실제 발생한  보험금  지급사유에  대해서는  \\n보험금을  지급합니다 . \\n② 회사가  제1항에 따라 계약을  해지한  경우 회사는  그 취지를  계약자에게  통지하고 , 해지 시 회사가  환급하여야  할 보험\\n료가 있을 경우에는  제32조(보험료의  환급)에 따른 보험료를  계약자에게  지급합니다 . \\n \\n제31조(회사의  파산선고와  해지) \\n① 회사가  파산의  선고를  받은 때에는  계약자는  계약을  해지할  수 있습니다 . \\n② 제1항의 규정에  따라 해지하지  않은 계약은  파산선고  후 3개월이  지난 때에는  그 효력을  잃습니다 . \\n③ 제1항의 규정에  따라 계약이  해지되거나  제2항의 규정에  따라 계약이  효력을  잃는 경우에  회사는  제32조(보험료의  환\\n급)에 따른 보험료를  계약자에게  지급합니다 . \\n \\n제32조(보험료의  환급) \\n① 이 계약이  무효, 효력상실 , 해지 또는 소멸된  때에는  다음과  같이 보험료를  돌려드립니다 . \\n1. 계약자 , 피보험자  또는 보험수익자의  책임 없는 사유에  의하는  경우: 무효의  경우에는  회사에  납입한  보험료의  전액, \\n효력상실 , 해지 또는 소멸의  경우에는  경과하지  않은 기간에  대하여  일단위로  계산한  보험료  \\n2. 계약자 , 피보험자  또는 보험수익자의  책임 있는 사유에  의하는  경우: 이미 경과한  기간에  대하여  단기요율 (1년 미만\\n의 기간에  적용되는  요율)로 계산한  보험료를  뺀 잔액. 다만, 계약자 , 피보험자의  고의 또는 중대한  과실로  무효가  된 \\n때에는  보험료를  돌려드리지  않습니다 . \\n<용어풀이 > \\n[고의] ', metadata={'page': 28, 'source': 'target_long.pdf'}),\n",
              " Document(page_content='지급합니다 . \\n⑤ 계약자는  제1항에 따른 제척기간에도  불구하고  민법 등 관계 법령에서  정하는  바에 따라 법률상의  권리를  행사할  수 \\n있습니다 . \\n \\n제26조(중대사유로  인한 해지) \\n① 회사는  다음과  같은 사실이  있을 경우에는  그 사실을  안 날부터  1개월 이내에  계약을  해지할  수 있습니다 . \\n1. 계약자 , 피보험자  또는 보험수익자가  보험금을  지급받을  목적으로  고의로  상해 또는 질병을  발생시킨  경우 \\n2. 계약자 , 피보험자  또는 보험수익자가  보험금  청구에  관한 서류에  고의로  사실과  다른 것을 적었거나  그 서류 또는 \\n증거를  위조 또는 변조한  경우. 다만, 이미 보험금  지급사유가  발생한  경우에는  보험금  지급에  영향을  미치지  않습니다 . \\n② 회사는  제1항에 따라 계약을  해지한  경우 그 사실을  계약자에게  통지하고 , 해지시  회사가  환급하여야  할 보험료가  있을 \\n경우에는  제28조(보험료의  환급)에 따라 이를 계약자에게  지급합니다 . \\n \\n제27조(회사의  파산선고와  해지) \\n① 회사가  파산의  선고를  받은 경우 계약자는  계약을  해지할  수 있습니다 . \\n② 제1항에 따라 해지하지  않은 계약은  파산선고  후 3개월이  지나면  그 효력을  잃습니다 . \\n③ 제1항에 따라 계약이  해지되거나  제2항에 따라 계약이  효력을  잃는 경우 회사는  제28조(보험료의  환급)에 따른 \\n보험료를  계약자에게  지급합니다 . \\n \\n제28조(보험료의  환급) \\n① 이 계약이  소멸된  때에는  다음과  같이 보험료를  돌려 드립니다 . \\n1. 계약자 , 피보험자  또는 보험수익자의  책임없는  사유에  의하는  경우 : 무효의  경우에는  회사에  납입한  보험료의  전액, \\n해지의  경우에는  경과하지  않은 기간에  대하여  일단위로  계산한  보험료  \\n2. 계약자 , 피보험자  또는 보험수익자의  책임있는  사유에  의하는  경우 : 이미 경과한  기간에  대하여  단기요율 (1년미만의  \\n기간에  적용되는  요율)로 계산한  보험료를  뺀 잔액. 다만, 계약자 , 피보험자  또는 보험수익자의  고의 또는 중대한  \\n과실로  무효가  된 때에는  보험료를  돌려드리지  않습니다 . \\n② 보험기간이  1년을 초과하는  계약이  무효인  경우에는  무효의  원인이  생긴 날 또는 해지일이  속하는  보험년도의  보험료는  \\n제1항의 규정을  적용하고  그 이후의  보험년도에  속하는  보험료는  전액을  돌려드립니다 . \\n③ 제1항 제2호에서  ‘계약자 , 피보험자  또한 보험수익자의  책임 있는 사유’라  함은 다음 각호 를 말합니다 . \\n1. 계약자 , 피보험자  또한 보험수익자가  임의 해지하는  경우 \\n2. 회사가  제15조(사기에  의한 계약), 제25조(계약자의  임의해지 ) 또는 제26조(중대사유로  인한 해지)에 따라 계약을  \\n취소 또는 해지하는  경우 \\n3. 보험료  미납으로  인한 계약의  효력 상실 \\n④ 계약의  무효, 효력상실 , 해지 또는 소멸로  인하여  회사가  환급하여야  할 보험료가  있을 때에는  계약자는  환급금을  \\n청구하여야  하며, 회사는  청구일의  다음 날부터  지급일까지의  기간에  대하여  ‘보험개발원이  공시하는  \\n보험계약대출이율’을  연단위  복리로  계산한  금액을  더하여  지급합니다 . \\n ', metadata={'page': 69, 'source': 'target_long.pdf'})]"
            ]
          },
          "metadata": {},
          "execution_count": 25
        }
      ],
      "source": [
        "retriever.invoke(\"보험금 지급사유는?\")"
      ]
    },
    {
      "cell_type": "code",
      "source": [
        "tavily = TavilyClient(api_key=os.environ[\"TAVILY_API_KEY\"])\n",
        "\n",
        "\n",
        "\n",
        "def solar_paper_search(query: str) -> str:\n",
        "    \"\"\"Query for research paper about solarllm, dus, llm and general AI.\n",
        "    If the query is about DUS, Upstage, AI related topics, use this.\n",
        "    \"\"\"\n",
        "    return solar_summary\n",
        "\n",
        "\n",
        "\n",
        "def internet_search(query: str) -> str:\n",
        "    \"\"\"This is for query for internet search engine like Google.\n",
        "    Query for general topics.\n",
        "    \"\"\"\n",
        "    return tavily.search(query=query)\n",
        "\n",
        "\n",
        "\n",
        "def get_news(topic: str) -> str:\n",
        "    \"\"\"Get latest news about a topic.\n",
        "    If users are more like recent news, use this.\n",
        "    \"\"\"\n",
        "    # https://newsapi.org/v2/everything?q=tesla&from=2024-04-01&sortBy=publishedAt&apiKey=API_KEY\n",
        "    # change this to request news from a real API\n",
        "    news_url = f\"https://newsapi.org/v2/everything?q={topic}&apiKey={os.environ['NEWS_API_KEY']}\"\n",
        "    respnse = requests.get(news_url)\n",
        "    return respnse.json()\n",
        "\n",
        "\n",
        "tools = [solar_paper_search, internet_search, get_news]\n",
        "\n",
        "\n",
        "llm_with_tools = llm.bind_tools(tools)"
      ],
      "metadata": {
        "id": "k28t3QboiUTb"
      },
      "execution_count": 34,
      "outputs": []
    },
    {
      "cell_type": "code",
      "source": [
        "query = \"보험금 지급사유는?\"\n",
        "a = llm_with_tools.invoke(query).tool_calls\n",
        "keyword = a[0]['args'].values()\n",
        "context_docs = retriever.invoke(keyword)\n",
        "chain.invoke({\"question\": query, \"Context\": context_docs})"
      ],
      "metadata": {
        "colab": {
          "base_uri": "https://localhost:8080/",
          "height": 35
        },
        "id": "ktQekH8Tir0t",
        "outputId": "0011171e-6269-45a0-ee5f-b816e640ae44"
      },
      "execution_count": 55,
      "outputs": [
        {
          "output_type": "execute_result",
          "data": {
            "text/plain": [
              "'보험금 지급사유는 상해의 직접결과로써 사망한 경우, 상해로 장해분류표에서 정한 각 장해지급률에 해당하는 장해상태가 되었을 때입니다.'"
            ],
            "application/vnd.google.colaboratory.intrinsic+json": {
              "type": "string"
            }
          },
          "metadata": {},
          "execution_count": 55
        }
      ]
    },
    {
      "cell_type": "markdown",
      "metadata": {
        "id": "H3Xo4SJCXSsD"
      },
      "source": [
        "# Excercise\n",
        "\n",
        "How can we easily get information from complicated tables for LLMs?"
      ]
    }
  ],
  "metadata": {
    "kernelspec": {
      "display_name": ".venv",
      "language": "python",
      "name": "python3"
    },
    "language_info": {
      "codemirror_mode": {
        "name": "ipython",
        "version": 3
      },
      "file_extension": ".py",
      "mimetype": "text/x-python",
      "name": "python",
      "nbconvert_exporter": "python",
      "pygments_lexer": "ipython3",
      "version": "3.9.6"
    },
    "colab": {
      "provenance": [],
      "include_colab_link": true
    }
  },
  "nbformat": 4,
  "nbformat_minor": 0
}